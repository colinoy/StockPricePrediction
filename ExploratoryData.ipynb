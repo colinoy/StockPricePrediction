{
 "cells": [
  {
   "cell_type": "code",
   "execution_count": 1,
   "metadata": {},
   "outputs": [],
   "source": [
    "import numpy as np \n",
    "import pandas as pd \n",
    "import matplotlib.pyplot as plt \n",
    "import seaborn as sns\n",
    "import yfinance as yf "
   ]
  },
  {
   "cell_type": "code",
   "execution_count": 142,
   "metadata": {},
   "outputs": [
    {
     "name": "stdout",
     "output_type": "stream",
     "text": [
      "[*********************100%***********************]  11 of 11 completed\n"
     ]
    }
   ],
   "source": [
    "# import data from yahoo finance \n",
    "\n",
    "data_new = yf.download(start=\"2000-01-01\", end=\"2022-08-01\", interval=\"1d\", tickers=['YM=F', 'NQ=F', 'YM=F', 'NQ=F', 'ES=F', 'RTY=F', 'CL=F', 'GC=F', 'SI=F', 'NG=F','^GSPC', 'EURUSD=X', '^TNX'])\n",
    "\n",
    "# 'YM=F' is the S&P 500 index \n",
    "# 'NQ=F' is the NASDAQ index \n",
    "# 'ES=F' is the EURO STOX index \n",
    "# 'RTY=F' is the Russell 2000 index \n",
    "# 'CL=F' is the Crude Oil index \n",
    "# 'GC=F' is the Gold index \n",
    "# 'SI=F' is the Silver index \n",
    "# 'NG=F' is the Natural Gas index \n",
    "# '^GSPC' is the S&P 500 index\n",
    "# 'EURUSD=X' is the EURO/USD index \n",
    "# '^TNX' is the 10-year Treasury note index \n",
    "\n"
   ]
  },
  {
   "cell_type": "code",
   "execution_count": 143,
   "metadata": {},
   "outputs": [],
   "source": [
    "# change Tickers names to readable names \n",
    "data_new = data_new.stack().reset_index().rename(columns={'level_1':'Ticker'})\n",
    "data_new['Ticker'] = data_new['Ticker'].map({'YM=F':'S&P 500', 'NQ=F':'NASDAQ', 'ES=F':'EURO STOX', 'RTY=F':'Russell 2000', 'CL=F':'Crude Oil', 'GC=F':'Gold', 'SI=F':'Silver', 'NG=F':'Natural Gas', '^GSPC':'S&P 500', 'EURUSD=X':'EURO/USD', '^TNX':'10-year Treasury note'})\n",
    "data_new['Date'] = pd.to_datetime(data_new['Date'])"
   ]
  },
  {
   "cell_type": "code",
   "execution_count": 144,
   "metadata": {},
   "outputs": [
    {
     "data": {
      "text/html": [
       "<div>\n",
       "<style scoped>\n",
       "    .dataframe tbody tr th:only-of-type {\n",
       "        vertical-align: middle;\n",
       "    }\n",
       "\n",
       "    .dataframe tbody tr th {\n",
       "        vertical-align: top;\n",
       "    }\n",
       "\n",
       "    .dataframe thead th {\n",
       "        text-align: right;\n",
       "    }\n",
       "</style>\n",
       "<table border=\"1\" class=\"dataframe\">\n",
       "  <thead>\n",
       "    <tr style=\"text-align: right;\">\n",
       "      <th></th>\n",
       "      <th>Date</th>\n",
       "      <th>Ticker</th>\n",
       "      <th>Adj Close</th>\n",
       "      <th>Close</th>\n",
       "      <th>High</th>\n",
       "      <th>Low</th>\n",
       "      <th>Open</th>\n",
       "      <th>Volume</th>\n",
       "    </tr>\n",
       "  </thead>\n",
       "  <tbody>\n",
       "    <tr>\n",
       "      <th>0</th>\n",
       "      <td>1999-12-31</td>\n",
       "      <td>S&amp;P 500</td>\n",
       "      <td>1469.250000</td>\n",
       "      <td>1469.250000</td>\n",
       "      <td>1472.420044</td>\n",
       "      <td>1458.189941</td>\n",
       "      <td>1464.469971</td>\n",
       "      <td>3.740500e+08</td>\n",
       "    </tr>\n",
       "    <tr>\n",
       "      <th>1</th>\n",
       "      <td>1999-12-31</td>\n",
       "      <td>10-year Treasury note</td>\n",
       "      <td>6.435000</td>\n",
       "      <td>6.435000</td>\n",
       "      <td>6.440000</td>\n",
       "      <td>6.377000</td>\n",
       "      <td>6.377000</td>\n",
       "      <td>0.000000e+00</td>\n",
       "    </tr>\n",
       "    <tr>\n",
       "      <th>2</th>\n",
       "      <td>2000-01-03</td>\n",
       "      <td>S&amp;P 500</td>\n",
       "      <td>1455.219971</td>\n",
       "      <td>1455.219971</td>\n",
       "      <td>1478.000000</td>\n",
       "      <td>1438.359985</td>\n",
       "      <td>1469.250000</td>\n",
       "      <td>9.318000e+08</td>\n",
       "    </tr>\n",
       "    <tr>\n",
       "      <th>3</th>\n",
       "      <td>2000-01-03</td>\n",
       "      <td>10-year Treasury note</td>\n",
       "      <td>6.548000</td>\n",
       "      <td>6.548000</td>\n",
       "      <td>6.603000</td>\n",
       "      <td>6.498000</td>\n",
       "      <td>6.498000</td>\n",
       "      <td>0.000000e+00</td>\n",
       "    </tr>\n",
       "    <tr>\n",
       "      <th>4</th>\n",
       "      <td>2000-01-04</td>\n",
       "      <td>S&amp;P 500</td>\n",
       "      <td>1399.420044</td>\n",
       "      <td>1399.420044</td>\n",
       "      <td>1455.219971</td>\n",
       "      <td>1397.430054</td>\n",
       "      <td>1455.219971</td>\n",
       "      <td>1.009000e+09</td>\n",
       "    </tr>\n",
       "  </tbody>\n",
       "</table>\n",
       "</div>"
      ],
      "text/plain": [
       "        Date                 Ticker    Adj Close        Close         High  \\\n",
       "0 1999-12-31                S&P 500  1469.250000  1469.250000  1472.420044   \n",
       "1 1999-12-31  10-year Treasury note     6.435000     6.435000     6.440000   \n",
       "2 2000-01-03                S&P 500  1455.219971  1455.219971  1478.000000   \n",
       "3 2000-01-03  10-year Treasury note     6.548000     6.548000     6.603000   \n",
       "4 2000-01-04                S&P 500  1399.420044  1399.420044  1455.219971   \n",
       "\n",
       "           Low         Open        Volume  \n",
       "0  1458.189941  1464.469971  3.740500e+08  \n",
       "1     6.377000     6.377000  0.000000e+00  \n",
       "2  1438.359985  1469.250000  9.318000e+08  \n",
       "3     6.498000     6.498000  0.000000e+00  \n",
       "4  1397.430054  1455.219971  1.009000e+09  "
      ]
     },
     "execution_count": 144,
     "metadata": {},
     "output_type": "execute_result"
    }
   ],
   "source": [
    "data_new.head()"
   ]
  },
  {
   "cell_type": "code",
   "execution_count": 150,
   "metadata": {},
   "outputs": [
    {
     "data": {
      "text/plain": [
       "Ticker\n",
       "10-year Treasury note    AxesSubplot(0.125,0.125;0.775x0.755)\n",
       "Crude Oil                AxesSubplot(0.125,0.125;0.775x0.755)\n",
       "EURO STOX                AxesSubplot(0.125,0.125;0.775x0.755)\n",
       "EURO/USD                 AxesSubplot(0.125,0.125;0.775x0.755)\n",
       "Gold                     AxesSubplot(0.125,0.125;0.775x0.755)\n",
       "NASDAQ                   AxesSubplot(0.125,0.125;0.775x0.755)\n",
       "Natural Gas              AxesSubplot(0.125,0.125;0.775x0.755)\n",
       "Russell 2000             AxesSubplot(0.125,0.125;0.775x0.755)\n",
       "S&P 500                  AxesSubplot(0.125,0.125;0.775x0.755)\n",
       "Silver                   AxesSubplot(0.125,0.125;0.775x0.755)\n",
       "Name: Close, dtype: object"
      ]
     },
     "execution_count": 150,
     "metadata": {},
     "output_type": "execute_result"
    },
    {
     "data": {
      "image/png": "[encoded data removed]",
      "text/plain": [
       "<Figure size 864x576 with 1 Axes>"
      ]
     },
     "metadata": {
      "needs_background": "light"
     },
     "output_type": "display_data"
    }
   ],
   "source": [
    "# plot each ticket close price\n",
    "data_new.groupby('Ticker').Close.plot(figsize=(12,8))"
   ]
  },
  {
   "cell_type": "markdown",
   "metadata": {},
   "source": []
  },
  {
   "cell_type": "code",
   "execution_count": null,
   "metadata": {},
   "outputs": [],
   "source": []
  }
 ],
 "metadata": {
  "kernelspec": {
   "display_name": "Python 3.8.2 ('base')",
   "language": "python",
   "name": "python3"
  },
  "language_info": {
   "codemirror_mode": {
    "name": "ipython",
    "version": 3
   },
   "file_extension": ".py",
   "mimetype": "text/x-python",
   "name": "python",
   "nbconvert_exporter": "python",
   "pygments_lexer": "ipython3",
   "version": "3.8.2"
  },
  "orig_nbformat": 4,
  "vscode": {
   "interpreter": {
    "hash": "a8c1b48c592bacb2905badfad8902855b75c6dd6980ebe98914499aa3e1a467d"
   }
  }
 },
 "nbformat": 4,
 "nbformat_minor": 2
}
